{
 "cells": [
  {
   "cell_type": "markdown",
   "id": "925c5e1a",
   "metadata": {},
   "source": [
    "to do:\n",
    "-run more models through Cheyenne\n",
    "-create script to filter through runs of model to find ARs which bound Greenland\n",
    "-get AR dates from this filter\n",
    "-get precip data pre-/post-dating these dates\n",
    "-write code for SMB anomaly calc\n",
    "    -normalize SMB across selves to compare SMB/AR events across basins\n",
    "-write code for corr coeff"
   ]
  },
  {
   "cell_type": "markdown",
   "id": "1d28a9ba",
   "metadata": {},
   "source": [
    "# **Surface mass balance changes in Greenland due to atmospheric rivers**"
   ]
  },
  {
   "cell_type": "markdown",
   "id": "1e64cf91",
   "metadata": {},
   "source": [
    "## Data description"
   ]
  },
  {
   "cell_type": "markdown",
   "id": "28ce99ac",
   "metadata": {},
   "source": [
    "#Greenland climatology data, some published paper\n",
    "#SMB history as well"
   ]
  },
  {
   "cell_type": "markdown",
   "id": "e8c0e476",
   "metadata": {},
   "source": [
    "### SMB data:"
   ]
  },
  {
   "cell_type": "markdown",
   "id": "c745138d",
   "metadata": {},
   "source": [
    "### AR selection:"
   ]
  },
  {
   "cell_type": "markdown",
   "id": "534d153a",
   "metadata": {},
   "source": [
    "### Precipitation data:"
   ]
  },
  {
   "cell_type": "markdown",
   "id": "fc2c6014",
   "metadata": {},
   "source": [
    "#### Map of precipitation gauges and basins:"
   ]
  },
  {
   "cell_type": "code",
   "execution_count": null,
   "id": "7925ef4a",
   "metadata": {},
   "outputs": [],
   "source": [
    "# map"
   ]
  },
  {
   "cell_type": "markdown",
   "id": "f5bf10a3",
   "metadata": {},
   "source": [
    "|Site Name|Region|Latitude|Longitude|\n",
    "|------|------|------|------|\n",
    "|Danmarkshavn |NE  |76.7694  | -18.6681 |\n",
    "|Ittoqqortoormiit  |NE  |70.4844  | -21.9511 |\n",
    "|Pituffik  |NW  |76.5333| -68.75 |\n",
    "|Tasiilaq  |SE  |65.6111  | -37.6367 |\n",
    "|Ikerasassuaq  |SE  |60.0553  | -43.1653 |\n",
    "|Qaqortoq  |SW  |60.7156  | -46.0489 |\n",
    "|Nuuk  |SW  |64.1833  | -51.7308 |\n",
    "|Sisimiut  |SW  |66.9167  | -53.6667 |\n",
    "|Mitt. Kangerlussuaq   |SW  |67.01667  | -50.7 |\n",
    "|Paamiut Heliport  |SW  |62  | -49.6667 |\n",
    "|Mitt. Narsarsuaq  |SW  |61.1667  | -45.4167 |\n",
    "|Aasiaat  |CW  |68.7081  | -52.8517 |\n"
   ]
  },
  {
   "cell_type": "markdown",
   "id": "3c9e119d",
   "metadata": {},
   "source": [
    "Table 1. Table describing precipitation stations on GrIS. Due to the fact that only 5/7 basins have precipitation gauges from DMI, only these were included in the study. SMB plots were created for all zones, but only those with precipitation gauges were analyzed statistically."
   ]
  },
  {
   "cell_type": "markdown",
   "id": "525b020a",
   "metadata": {},
   "source": [
    "## Methodology"
   ]
  },
  {
   "cell_type": "markdown",
   "id": "20fcbf53",
   "metadata": {},
   "source": [
    "### Data aquisition: "
   ]
  },
  {
   "cell_type": "markdown",
   "id": "7d607ae4",
   "metadata": {},
   "source": [
    "#### AR event selection:"
   ]
  },
  {
   "cell_type": "markdown",
   "id": "513ef03a",
   "metadata": {},
   "source": [
    "ARs modeled by Adam Herrington were used in AR event selection. The modeled ARs were selected from data ranging from 1986-2021. Before final selection of ARs, each run of the model was remapped to a structured grid. Previously the models existed on an unstructured grid, meaning there was no meaningful visual geographic connection to each AR.  In order to choose visualize the ARs and choose those which exist over the GrIS, a script was created to select ARs over this area."
   ]
  },
  {
   "cell_type": "code",
   "execution_count": 1,
   "id": "56c75995",
   "metadata": {},
   "outputs": [],
   "source": [
    "# No script was actually written, more so just chosen preliminarily using ncview\n",
    "# and then checked using script. Perhaps attach an image of ncview setup later\n",
    "# on here.\n"
   ]
  },
  {
   "cell_type": "markdown",
   "id": "2a439a10",
   "metadata": {},
   "source": [
    "Additionally, a script was also written to visualize ARs and to ensure those that were filtered by the selection script are those which exist near the GrIS."
   ]
  },
  {
   "cell_type": "code",
   "execution_count": 2,
   "id": "85331c65",
   "metadata": {},
   "outputs": [],
   "source": [
    "# Visualization script\n",
    "from netCDF4 import Dataset\n",
    "import numpy as np\n",
    "import matplotlib.pyplot as plt\n",
    "from mpl_toolkits.basemap import Basemap\n",
    "import os\n",
    "#%% File load in and variable creation\n",
    "\n",
    "# Enter path to desired file\n",
    "path = '/Users/alpac/Documents/TempestExtremes/AR_GrIS/'\n",
    "nc_file1 = 'cam6_2_022.se_FHIST_ne30pg3_ne30pg3_mg17_1800pes_200507_mg3-Nx5yrs.cam.h3.1991-08-29-00000.ARtag_remapped.nc'\n",
    "nc_file2 = 'cam6_2_022.se_FHIST_ne30pg3_ne30pg3_mg17_1800pes_200507_mg3-Nx5yrs.cam.h3.1992-08-24-00000.ARtag_remapped.nc'\n",
    "nc_file3 = 'cam6_2_022.se_FHIST_ne30pg3_ne30pg3_mg17_1800pes_200507_mg3-Nx5yrs.cam.h3.1993-08-19-00000.ARtag_remapped.nc'\n",
    "nc_file1 = 'cam6_2_022.se_FHIST_ne30pg3_ne30pg3_mg17_1800pes_200507_mg3-Nx5yrs.cam.h3.1995-08-09-00000.ARtag_remapped.nc'\n",
    "nc_file2 = 'cam6_2_022.se_FHIST_ne30pg3_ne30pg3_mg17_1800pes_200507_mg3-Nx5yrs.cam.h3.1998-08-24-00000.ARtag_remapped.nc'\n",
    "\n",
    "# Create a netcdf4 variable from this file\n",
    "# Change nc_file# to view different viles\n",
    "fh = Dataset(path+nc_file1,mode='r')\n",
    "\n",
    "#%%\n",
    "# Create viarbles within python which are extracted from netcdf4 file\n",
    "lons = fh.variables['lon'][:]\n",
    "lats = fh.variables['lat'][:]\n",
    "time = fh.variables['time'][:].astype('int')\n",
    "artag = fh.variables['AR_binary_tag'][:]\n",
    "\n",
    "#%% Plotting\n",
    "\n",
    "i = 0\n",
    "\n",
    "# Specify grid parameters\n",
    "\n",
    "mp = Basemap(projection = 'cyl',\n",
    "             llcrnrlon = -0,\n",
    "             llcrnrlat = -90,\n",
    "             urcrnrlon = 360,\n",
    "             urcrnrlat = 90,\n",
    "             resolution = 'i')\n",
    "\n",
    "# Create grid based off of lat/long variables from matrices\n",
    "lon, lat = np.meshgrid(lons,lats)\n",
    "\n",
    "# Create x,y variables based on mat\n",
    "x,y = mp(lon,lat)\n",
    "\n",
    "cs = mp.pcolor(x,y,np.squeeze(artag[3]), cmap = 'Reds')\n",
    "\n",
    "# Add Coastlines, States, and Country Boundaries\n",
    "mp.drawcoastlines()\n",
    "#mp.drawstates()\n",
    "#mp.drawcountries()\n",
    "\n",
    "plt.plot()"
   ]
  },
  {
   "cell_type": "markdown",
   "id": "2749e6b6",
   "metadata": {},
   "source": [
    "##### Importation of necessary libraries:"
   ]
  },
  {
   "cell_type": "code",
   "execution_count": 5,
   "id": "d88fa1e5",
   "metadata": {},
   "outputs": [],
   "source": [
    "import pandas as pd\n",
    "import xarray as xr\n",
    "from matplotlib import pyplot as plt\n",
    "import datetime\n",
    "from datetime import timedelta\n",
    "import numpy as np\n",
    "from pathlib import Path"
   ]
  },
  {
   "cell_type": "markdown",
   "id": "86ec092b",
   "metadata": {},
   "source": [
    "Finally, six ARs were chosen to be used in this study: three which occurred in the Northern Hempishere summer season and three in the Northern Hempisphere winter season."
   ]
  },
  {
   "cell_type": "code",
   "execution_count": 2,
   "id": "d547323f",
   "metadata": {},
   "outputs": [],
   "source": [
    "AR_dates = ['1992-9-17','1995-08-12','1996-08-29','1997-9-17','1998-8-24']\n",
    "\n",
    "study_interval = timedelta(days=30)\n",
    "\n",
    "start_study = pd.to_datetime(AR_dates[0])-study_interval\n",
    "AR_date = pd.to_datetime(AR_dates[0])\n",
    "end_study = pd.to_datetime(AR_dates[0])+study_interval"
   ]
  },
  {
   "cell_type": "markdown",
   "id": "03a4dbeb",
   "metadata": {},
   "source": [
    "#### Precipitation data:"
   ]
  },
  {
   "cell_type": "markdown",
   "id": "9bd4d1b8",
   "metadata": {},
   "source": [
    "Using the dates previously chosen, data was collected from the Danish Metereological Institute (DMI). Locations with precipitation data from DMI include Danmarkshavn (NE), Daneborg (NE), Ittoqqortoormiit (NE), Angissoq (SE), \n",
    "Ikerasassuaq (SE), Tasiilaq (SE), Qaqortoq (SW), Nuuk (SW), Aasiaat (SW), #Keep working on getting the correct stations --> basins. Maybe put into a table? This probably belongs in data description section#  Time series data pre-dating and post-dating the date of AR occurence by 3 months was downloaded as a CSV."
   ]
  },
  {
   "cell_type": "code",
   "execution_count": 3,
   "id": "5c4cf6b1",
   "metadata": {},
   "outputs": [],
   "source": [
    "# Include figure from DMI download page"
   ]
  },
  {
   "cell_type": "markdown",
   "id": "092ccac1",
   "metadata": {},
   "source": [
    "This data was then read into a dataframe. To include all precipitation data from the same location, precipitation measurements within the same region (i.e., NW, CE, etc.) were added together."
   ]
  },
  {
   "cell_type": "code",
   "execution_count": null,
   "id": "4396e0c7",
   "metadata": {},
   "outputs": [
    {
     "name": "stderr",
     "output_type": "stream",
     "text": [
      "C:\\Users\\alpac\\AppData\\Local\\Temp/ipykernel_7196/3315207097.py:21: DtypeWarning: Columns (0,1,2,3,4,5,6,7,8,9,10,11,12,13,14) have mixed types.Specify dtype option on import or set low_memory=False.\n",
      "  dataframe_list = [pd.read_csv(data_folder + '/' + file+'.txt',delim_whitespace=True) for file in stations]\n"
     ]
    }
   ],
   "source": [
    "# Script showing precip data read in and summing of different regions\n",
    "\n",
    "#%% Importing precip data\n",
    "\n",
    "# Path to precip files\n",
    "data_folder = str(Path(\"GrIS_precip_data/\"))\n",
    "\n",
    "# Station ID #s\n",
    "stations = ['04320','04339','04360','04390','04272','04250','04220','04202','04230','04231','04260',\n",
    "            '04270']\n",
    "\n",
    "# Dataframe which connects stations to specified region\n",
    "dfcon_stn_reg = {'stationID' : ['04320','04339','04360','04390','04272','04250','04220','04202','04230','04231','04260',\n",
    "            '04270'], 'region' : ['NE','NE','SE','SE','SW','SW','CW', 'NW','SW','SW','SW','SW'], 'name':['Danmarkshavn',\n",
    "            'Ittoqqortoormiit','Tasiilaq','Ikerasassuaq','Qaqortoq', 'Nuuk','Aasiaat','Pituffik','Sisimut','Mitt. Kangerlussuaq',\n",
    "             'Paamiut Heliport','Mitt. Narsarsuaq']}\n",
    "# Convert to dataframe\n",
    "dfcon_stn_reg = pd.DataFrame(dfcon_stn_reg)\n",
    "\n",
    "# Add all stations to a dataframe list\n",
    "dataframe_list = [pd.read_csv(data_folder + '/' + file+'.txt',delim_whitespace=True) for file in stations]\n",
    "\n",
    "# Try to convert each piece of data in dataframes to a float object.\n",
    "# If it fails, remove dataframe rows which can't be converted to \n",
    "# floats (they are strings) and convert the precip column to numeric.\n",
    "for df in dataframe_list:\n",
    "    for index,row in df.iterrows():\n",
    "        try:\n",
    "            row = row.astype(str).astype(float)\n",
    "        except:\n",
    "            df.drop([index], axis = 0, inplace = True)\n",
    "            df['rrr6'] = pd.to_numeric(df['rrr6'])\n",
    "\n",
    "# Processing dataframes\n",
    "for df in dataframe_list:\n",
    "    df['minutes']=0 # Add in minutes column\n",
    "    df['seconds']=0 # Add in seconds column\n",
    "    # Create a datetime string holding all datetime information\n",
    "    df['Datetime'] = df[['year','month','day']].astype(str).apply('-'.join,1)+' '+df[['hour','seconds','minutes']].astype(str).apply(':'.join,1)\n",
    "    # Change datetime column into a true pandas datetime object\n",
    "    df['Datetime'] = pd.to_datetime(df['Datetime'], errors='coerce', format='%Y-%m-%d %H:%M:%S')\n",
    "    # Set datetime as index\n",
    "    df.set_index('Datetime', inplace = True)\n",
    "    # Drop unnecessary columns\n",
    "    df.drop(columns={'stat_no','year', 'month', 'day','hour','dd','ff','n','pppp','ttt','txtxtx','tntntn','rh','sss','minutes','seconds'}, inplace = True)\n",
    "    df.fillna(0, inplace = True) # Assume that there was no precipitation where nan\n",
    "    df.rename(columns={'rrr6':\"precip_mm\"}, inplace = True) # Rename column\n",
    "    df.replace(-1,0,inplace=True) #-1 indicates less than 1 mm of precip but greater than 0, set to 0\n",
    "\n",
    "#%% Precip data preparation\n",
    "\n",
    "# Copy dataframe_list into a seperate dataframe to avoid re-running above cell > long processing time\n",
    "dataframe_list2 = dataframe_list.copy()\n",
    "\n",
    "i = 0\n",
    "while i < 12:\n",
    "    # Resample all dataframes to daily data\n",
    "    dataframe_list2[i] = dataframe_list2[i].resample('D').sum()\n",
    "    # Trim study sites to start/end study\n",
    "    dataframe_list2[i].drop(dataframe_list2[i].loc[:start_study].index,axis=0,inplace = True)\n",
    "    dataframe_list2[i].drop(dataframe_list2[i].loc[end_study:].index,axis=0,inplace = True)\n",
    "    i = i + 1 # Increment counter \n",
    "\n",
    "# Divide dataframes into seperate based on study station\n",
    "df04320_NE = dataframe_list2[0]\n",
    "df04339_NE = dataframe_list2[1]\n",
    "df04360_SE = dataframe_list2[2]\n",
    "df04390_SE = dataframe_list2[3]\n",
    "df04220_CW = dataframe_list2[6]\n",
    "df04202_NW = dataframe_list2[7]\n",
    "df04230_SW = dataframe_list2[8]\n",
    "df04231_SW = dataframe_list2[9]\n",
    "df04260_SW = dataframe_list2[10]\n",
    "df04270_SW = dataframe_list2[11]\n",
    "df04272_SW = dataframe_list2[4]\n",
    "df04250_SW = dataframe_list2[5]\n",
    "\n",
    "# Add all precip for time periods for each individual basin and average by number gauges\n",
    "dfprecip_NE = (df04320_NE + df04339_NE)/2\n",
    "\n",
    "dfprecip_SE = (df04360_SE + df04390_SE)/2\n",
    "\n",
    "dfprecip_CW = df04220_CW/1\n",
    "\n",
    "dfprecip_NW = df04202_NW/1\n",
    "\n",
    "dfprecip_SW = (df04230_SW + df04231_SW + df04260_SW + df04270_SW + df04272_SW + df04250_SW)/6\n",
    "\n",
    "# Use trimmed precip data to find normalized average across study period\n",
    "\n",
    "# Multiindex dataframe holding each basin\n",
    "dfprecip_tot= pd.concat({'dfprecip_NE':dfprecip_NE, 'dfprecip_SE':dfprecip_SE, 'dfprecip_CW':dfprecip_CW,\n",
    "                         'dfprecip_NW':dfprecip_NW, 'dfprecip_SW':dfprecip_SW}, axis=1)\n",
    "\n",
    "# Holds avg precip values for each of the basins\n",
    "dfprecip_avg = dfprecip_tot.mean()\n",
    "dfprecip_avg = dfprecip_avg.droplevel(level=1)\n",
    "\n",
    "dfprecip_tot = dfprecip_tot.unstack().droplevel(level=1)\n",
    "\n",
    "# Event precipitation\n",
    "study_interval = timedelta(days=3) # Question: How much precip can be attributed to ARs?\n",
    "\n",
    "# Event start/stop dates\n",
    "event_start = pd.to_datetime(AR_dates[0])-study_interval\n",
    "event_end = pd.to_datetime(AR_dates[0])+study_interval\n",
    "\n",
    "# Take the precip within the event interval\n",
    "dfprecip_event = dfprecip_tot.loc[(slice(None),slice(event_start,event_end))]\n",
    "dfprecip_event = dfprecip_event.unstack()\n",
    "\n",
    "# Sum to get total event precipitation\n",
    "dfprecip_event = dfprecip_event.sum(axis=1)"
   ]
  },
  {
   "cell_type": "markdown",
   "id": "f447caff",
   "metadata": {},
   "source": [
    "#### SMB data:"
   ]
  },
  {
   "cell_type": "markdown",
   "id": "3ca97df4",
   "metadata": {},
   "source": [
    "##### Data input and cleaning:"
   ]
  },
  {
   "cell_type": "markdown",
   "id": "6d0a8572",
   "metadata": {},
   "source": [
    "SMB data was downloaded from Mankoff et al., 2021a. This data was originally in the form of a netCDF so it was first converted into a dataframe. After importation was complete, the dataframe was trimmed to the relevant time period and stripped of unnecessary columns."
   ]
  },
  {
   "cell_type": "code",
   "execution_count": null,
   "id": "2e1c02ed",
   "metadata": {},
   "outputs": [],
   "source": [
    "# Open netCDF file and convert to dataframe\n",
    "open_netcdf = xr.open_dataset('MB_region.nc') # Netcdf from Mankoff, et al., 2021\n",
    "SMB_data = open_netcdf.to_dataframe()\n",
    "\n",
    "#Drop unnecessary rows from df\n",
    "SMB_data = SMB_data.drop(columns={'MB', 'MB_err', 'MB_ROI', 'MB_ROI_err',\n",
    "                          'D','BMB'})\n",
    "SMB_data = SMB_data.drop(columns={'D_ROI', 'D_ROI_err', 'BMB_err', 'BMB_ROI', 'BMB_ROI_err',\n",
    "                          'MB_HIRHAM', 'MB_MAR', 'MB_RACMO', 'D_err'})\n",
    "start_date = pd.to_datetime('1986-1-1')\n",
    "\n",
    "SMB_data = SMB_data[start_date:]\n",
    "#%% Divide regional SMB into seperate dataframes\n",
    "\n",
    "regions = ['NO','SE','SW','NE','NW','CE','CW']\n",
    "\n",
    "\n",
    "# Create an empty dict to put created dataframes in\n",
    "d = {} \n",
    "\n",
    "# Iterate through regions, selecting SMB data from each\n",
    "for i in regions:\n",
    "    data = SMB_data.loc[(slice(None),i),'SMB_ROI'] # Select SMB data for each region and store in data\n",
    "    d[i] = pd.DataFrame(data=data) # Add this data to the dict, d\n",
    "\n",
    "# Create unique dataframes storing individual dict dataframes for reach region\n",
    "# Drop second index (regions) once there are individual names for each regional SMB\n",
    "smb_NO = d[\"NO\"].droplevel(level=1)\n",
    "smb_SE = d[\"SE\"].droplevel(level=1)\n",
    "smb_SW = d[\"SW\"].droplevel(level=1)\n",
    "smb_NE = d[\"NE\"].droplevel(level=1)\n",
    "smb_NW = d[\"NW\"].droplevel(level=1)\n",
    "smb_CE = d[\"CE\"].droplevel(level=1)\n",
    "smb_CW = d[\"CW\"].droplevel(level=1) \n",
    "\n",
    "data = [smb_NO[\"SMB_ROI\"], smb_SE[\"SMB_ROI\"],smb_SW[\"SMB_ROI\"],smb_NE[\"SMB_ROI\"],smb_NW[\"SMB_ROI\"],\n",
    "        smb_CE[\"SMB_ROI\"],smb_CW[\"SMB_ROI\"]]\n",
    "\n",
    "# Create a dataframe holding all SMB data with regions as keys\n",
    "smb_TOT = pd.concat(data, axis=1, keys=regions)"
   ]
  },
  {
   "cell_type": "markdown",
   "id": "4f2e1beb",
   "metadata": {},
   "source": [
    "### SMB anomaly calculation:"
   ]
  },
  {
   "cell_type": "markdown",
   "id": "4e60503d",
   "metadata": {},
   "source": [
    "SMB were compared using a SMB anomaly (SMBa) calculation using:\n",
    "> $n_{i} = ( SMB_{i}-SMB_{ave} )$ &emsp;&emsp;&emsp;&emsp;&emsp;&emsp;&emsp;&emsp;&emsp;&emsp;&emsp;&emsp; eq. 1\n",
    "\n",
    "where $n_{i}$ is the calculated SMB anomaly, $SMB_{i}$ is the normalized SMB of the study day, and $SMB_{ave}$ is the average normalized SMB of the time included in each range (i.e., the 3 months preceding and following the day of AR landfall). This equation was adapted from the melt anomaly equation used in Huss et al., 2009. "
   ]
  },
  {
   "cell_type": "code",
   "execution_count": null,
   "id": "8dcbae42",
   "metadata": {},
   "outputs": [],
   "source": [
    "#%% SMB anomaly calculation\n",
    "\n",
    "# Copy of data_reg to allow for manipulation\n",
    "data_reg2 = data_reg.copy()\n",
    "\n",
    "# Trim SMB to fit study period\n",
    "i = 0\n",
    "while i < 7: # 7 because there are 7 entries in data_reg (7 basins)\n",
    "    data_reg2[i].drop(data_reg2[i].loc[:start_study].index,axis=0,inplace = True)\n",
    "    data_reg2[i].drop(data_reg2[i].loc[end_study:].index,axis=0,inplace = True)\n",
    "    i = i+1\n",
    "    \n",
    "# Create seperate dataframes holding SMB info for each region\n",
    "dfSMB_NE = data_reg2[3]\n",
    "dfSMB_SE = data_reg2[1]\n",
    "dfSMB_CW = data_reg2[6]\n",
    "dfSMB_NW = data_reg2[4]\n",
    "dfSMB_SW = data_reg2[2]\n",
    "\n",
    "# Create multi-index dataframe holding each individual basin SMB difference data\n",
    "dfSMB_tot= pd.concat({'dfSMB_NE':dfSMB_NE['diff_SMB'], 'dfSMB_SE':dfSMB_SE['diff_SMB'], 'dfSMB_CW':dfSMB_CW['diff_SMB'],\n",
    "                         'dfSMB_NW':dfSMB_NW['diff_SMB'], 'dfSMB_SW':dfSMB_SW['diff_SMB']}, axis=1)\n",
    "\n",
    "\n",
    "# Find average of each SMB difference\n",
    "dfSMB_avg = dfSMB_tot.mean()\n",
    "\n",
    "# Calculate SMB anomaly\n",
    "    # Normalized SMB change on day of AR ('diff_SMB' in data reg)\n",
    "    # Normalized average change in SMB across total span\n",
    "\n",
    "# Anomaly = SMB(difference) on study date - SMB(difference) average for study period\n",
    "dfSMB_anom = dfSMB_tot.unstack().loc[(slice(None),AR_date)] - dfSMB_avg\n",
    "\n",
    "x = dfSMB_tot.unstack()\n",
    "\n",
    "# Make iterative for each of study dates"
   ]
  },
  {
   "cell_type": "markdown",
   "id": "1273128b",
   "metadata": {},
   "source": [
    "### Correlation coefficient between high precip and low SMB"
   ]
  },
  {
   "cell_type": "markdown",
   "id": "a6a5e1b1",
   "metadata": {},
   "source": [
    "To understand the relationship between high precipitation events during ARs, correlation coefficients of the precipitation values and SMB were calculated using Pearson's correlation coefficient:\n",
    "> $r= \\frac{\\sum ((P_{i} - P_{ave})(SMB_{i} - SMB_{ave}))}{\\sqrt{\\sum(P_{i} - P_{ave})^2 \\sum(SMB_{i} - SMB_{ave})^2}}$\n",
    "\n",
    "where $r$ represents the correlation coefficient, $SMB_{i}$ represents the SMB change of the study period, $SMB_{ave}$ represents the mean SMB change of the study period, $P_{i}$ represents the precipitation values of the study period, and $P_{ave}$ represents the mean precipitation of this study period.\n",
    "\n",
    "> maybe use SMB anomaly instead\n"
   ]
  },
  {
   "cell_type": "code",
   "execution_count": null,
   "id": "860103ba",
   "metadata": {},
   "outputs": [],
   "source": [
    "# Code including corr coeff calculation\n",
    "SMB_list = ['dfSMB_NE','dfSMB_SE','dfSMB_CW','dfSMB_NW','dfSMB_SW']\n",
    "\n",
    "SMB_corr_coeff = pd.DataFrame(index = SMB_list, columns = ['AR1'])\n",
    "\n",
    "# Individual basin (event precip) --> Use this one for actual analysis\n",
    "# Try to run the Pearson corr coeff equation. If it runs, add the corr coeff to the \n",
    "# SMB_corr_coeff dataframe and print the corr_coeff. If it doesn't run (has an error due to)\n",
    "# lack of precipitation in a time period, don't add anything to SMB_corr_coeff and print flag.\n",
    "i=0\n",
    "while i < 5:\n",
    "    try:\n",
    "        corr_coeff = np.sum((dfprecip_event[i] - dfprecip_avg[i])*\n",
    "                            ((dfSMB_tot.unstack().loc[(SMB_list[i],AR_date)] - dfSMB_avg[i])))/np.sqrt(\n",
    "                                np.sum((dfprecip_event[i] - dfprecip_avg[i])**2)*\n",
    "                                np.sum((dfSMB_tot.unstack().loc[(SMB_list[i],AR_date)] - dfSMB_avg[i])**2))\n",
    "        SMB_corr_coeff.iloc[i] = corr_coeff\n",
    "        print(corr_coeff)\n",
    "    except:\n",
    "        print(\"No precipitation during this period in \" + SMB_list[i])\n",
    "    i = i+1\n",
    "print(SMB_coff_coeff)"
   ]
  },
  {
   "cell_type": "markdown",
   "id": "8da015ca",
   "metadata": {},
   "source": [
    "## Results"
   ]
  },
  {
   "cell_type": "markdown",
   "id": "a1fb2ed2",
   "metadata": {},
   "source": [
    "SMB for the whole span of data was plotted for visual comparison."
   ]
  },
  {
   "cell_type": "code",
   "execution_count": 10,
   "id": "1a52d091",
   "metadata": {},
   "outputs": [
    {
     "data": {
      "text/plain": [
       "[]"
      ]
     },
     "execution_count": 10,
     "metadata": {},
     "output_type": "execute_result"
    },
    {
     "data": {
      "image/png": "[encoded data removed]",
      "text/plain": [
       "<Figure size 1440x504 with 8 Axes>"
      ]
     },
     "metadata": {
      "needs_background": "light"
     },
     "output_type": "display_data"
    }
   ],
   "source": [
    "fig, axes = plt.subplots(2,4,sharex = True)\n",
    "\n",
    "fig.set_size_inches(20, 7, forward=True) # Setting individual size\n",
    "\n",
    "#axes.set_xlim(left = start, right = end) # Trimming x limits to each individual start and end\n",
    "\n",
    "# Plotting necessary data\n",
    "    \n",
    "axes[0,0].plot(smb_TOT['NO'], color = 'blue', linestyle = '-', label = 'NO')\n",
    "axes[0,0].set_title('NO')\n",
    "     \n",
    "axes[0,1].plot(smb_TOT['SE'], color = 'blue', linestyle = '-', label = 'SE')\n",
    "axes[0,1].set_title('SE')\n",
    "\n",
    "axes[0,2].plot(smb_TOT['SW'], color = 'blue', linestyle = '-', label = 'SW')\n",
    "axes[0,2].set_title('SW')\n",
    "\n",
    "axes[0,3].plot(smb_TOT['NE'], color = 'blue', linestyle = '-', label = 'NE')\n",
    "axes[0,3].set_title('NE')\n",
    "\n",
    "axes[1,0].plot(smb_TOT['NW'], color = 'blue', linestyle = '-', label = 'NW')\n",
    "axes[1,0].set_title('NW')\n",
    "\n",
    "axes[1,1].plot(smb_TOT['CW'], color = 'blue', linestyle = '-', label = 'CW')\n",
    "axes[1,1].set_title('CW')\n",
    "\n",
    "axes[1,2].plot(smb_TOT['CE'], color = 'blue', linestyle = '-', label = 'CE')\n",
    "axes[1,2].set_title('CE')\n",
    "\n",
    "# Combined plot\n",
    "\n",
    "axes[1,3].plot(smb_TOT['NO'], color = 'blue', linestyle = '-', label = 'NO')\n",
    "axes[1,3].set_title('Combined Regions')\n",
    "\n",
    "axes[1,3].plot(smb_TOT['SE'], color = 'green', linestyle = '-', label = 'SE')\n",
    "axes[1,3].set_title('Combined Regions')\n",
    "\n",
    "axes[1,3].plot(smb_TOT['SW'], color = 'red', linestyle = '-', label = 'SW')\n",
    "axes[1,3].set_title('Combined Regions')\n",
    "\n",
    "axes[1,3].plot(smb_TOT['NE'], color = 'orange', linestyle = '-', label = 'NE')\n",
    "axes[1,3].set_title('Combined Regions')\n",
    "\n",
    "axes[1,3].plot(smb_TOT['NW'], color = 'yellow', linestyle = '-', label = 'NW')\n",
    "axes[1,3].set_title('Combined Regions')\n",
    "\n",
    "axes[1,3].plot(smb_TOT['CW'], color = 'purple', linestyle = '-', label = 'CW')\n",
    "axes[1,3].set_title('Combined Regions')\n",
    "\n",
    "axes[1,3].plot(smb_TOT['CE'], color = 'fuchsia', linestyle = '-', label = 'CE')\n",
    "axes[1,3].set_title('Combined Regions')\n",
    "\n",
    "fig.autofmt_xdate()\n",
    "\n",
    "plt.plot()"
   ]
  },
  {
   "cell_type": "markdown",
   "id": "c5addb02",
   "metadata": {},
   "source": [
    "SMB and precip over each study period were plotted for visual comparison."
   ]
  },
  {
   "cell_type": "code",
   "execution_count": null,
   "id": "dd697e99",
   "metadata": {},
   "outputs": [],
   "source": [
    "#%% Plot precip/SMB over AR time periods\n",
    "\n",
    "fig, axes = plt.subplots(2,3,sharex = True)\n",
    "\n",
    "fig.set_size_inches(20, 10, forward=True) # Setting individual size\n",
    "\n",
    "fig.suptitle(\"Relationship between change in SMB and precipitation\", fontsize=20)\n",
    "\n",
    "#fig.tight_layout(0.1)\n",
    "plt.subplots_adjust(hspace = 0.1, wspace = 0.3)\n",
    "\n",
    "axes[0,0].plot(dfprecip_NE, color = 'blue', linestyle = '-', label = 'NE')\n",
    "axes2=axes[0,0].twinx()\n",
    "axes[0,0].set_title('NE')\n",
    "axes2.plot(dfSMB_NE['diff_SMB'], color = 'red', linestyle = '-', label = 'NE')\n",
    "plt.axvline(x=AR_date, color = 'green')\n",
    "axes[0,0].set_ylabel(\"Precipitation (mm)\",fontsize=10, color = 'blue')\n",
    "axes2.set_ylabel(\"Change in SMB (Gt/yr)\",fontsize=10, color = 'red')\n",
    "\n",
    "axes[0,1].plot(dfprecip_SE, color = 'blue', linestyle = '-', label = 'SE')\n",
    "axes2=axes[0,1].twinx()\n",
    "axes[0,1].set_title('SE')\n",
    "axes2.plot(dfSMB_SE['diff_SMB'], color = 'red', linestyle = '-', label = 'SE')\n",
    "plt.axvline(x=AR_date, color = 'green')\n",
    "axes[0,1].set_ylabel(\"Precipitation (mm)\",fontsize=10, color = 'blue')\n",
    "axes2.set_ylabel(\"Change in SMB (Gt/yr)\",fontsize=10, color = 'red')\n",
    "\n",
    "axes[0,2].plot(dfprecip_CW, color = 'blue', linestyle = '-', label = 'CW')\n",
    "axes2=axes[0,2].twinx()\n",
    "axes[0,2].set_title('CW')\n",
    "axes2.plot(dfSMB_CW['diff_SMB'], color = 'red', linestyle = '-', label = 'CW')\n",
    "plt.axvline(x=AR_date, color = 'green')\n",
    "axes[0,2].set_ylabel(\"Precipitation (mm)\",fontsize=10, color = 'blue')\n",
    "axes2.set_ylabel(\"Change in SMB (Gt/yr)\",fontsize=10, color = 'red')\n",
    "\n",
    "axes[1,0].plot(dfprecip_NW, color = 'blue', linestyle = '-', label = 'NW')\n",
    "axes2=axes[1,0].twinx()\n",
    "axes[1,0].set_title('NW')\n",
    "axes2.plot(dfSMB_NW['diff_SMB'], color = 'red', linestyle = '-', label = 'NW')\n",
    "plt.axvline(x=AR_date, color = 'green')\n",
    "axes[1,0].set_ylabel(\"Precipitation (mm)\",fontsize=10, color = 'blue')\n",
    "axes2.set_ylabel(\"Change in SMB (Gt/yr)\",fontsize=10, color = 'red')\n",
    "\n",
    "axes[1,1].plot(dfprecip_SW, color = 'blue', linestyle = '-', label = 'SW')\n",
    "axes2=axes[1,1].twinx()\n",
    "axes[1,1].set_title('SW')\n",
    "axes2.plot(dfSMB_SW['diff_SMB'], color = 'red', linestyle = '-', label = 'SW')\n",
    "plt.axvline(x=AR_date, color = 'green')\n",
    "axes[1,1].set_ylabel(\"Precipitation (mm)\",fontsize=10, color = 'blue')\n",
    "axes2.set_ylabel(\"Change in SMB (Gt/yr)\",fontsize=10, color = 'red')\n",
    "\n",
    "fig.autofmt_xdate()\n",
    "\n",
    "plt.show()\n",
    "\n",
    "# Fix formatting on labels\n",
    "# Add something to indicate that green line is AR date\n",
    "# Get rid of last plot"
   ]
  }
 ],
 "metadata": {
  "kernelspec": {
   "display_name": "Python 3 (ipykernel)",
   "language": "python",
   "name": "python3"
  },
  "language_info": {
   "codemirror_mode": {
    "name": "ipython",
    "version": 3
   },
   "file_extension": ".py",
   "mimetype": "text/x-python",
   "name": "python",
   "nbconvert_exporter": "python",
   "pygments_lexer": "ipython3",
   "version": "3.8.8"
  }
 },
 "nbformat": 4,
 "nbformat_minor": 5
}
